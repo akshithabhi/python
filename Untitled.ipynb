{
 "cells": [
  {
   "cell_type": "code",
   "execution_count": 1,
   "metadata": {},
   "outputs": [
    {
     "name": "stdout",
     "output_type": "stream",
     "text": [
      "10 python p 10.2\n",
      "<class 'int'> <class 'str'> <class 'str'> <class 'float'>\n"
     ]
    }
   ],
   "source": [
    "a=10;\n",
    "s1=\"python\"\n",
    "s2='p'\n",
    "f1=10.2\n",
    "print(a,s1,s2,f1)\n",
    "print(type(a),type(s1),type(s2),type(f1))"
   ]
  },
  {
   "cell_type": "code",
   "execution_count": 3,
   "metadata": {},
   "outputs": [
    {
     "name": "stdout",
     "output_type": "stream",
     "text": [
      "4\n"
     ]
    }
   ],
   "source": [
    "# A number is give 1234\n",
    "#Digit count\n",
    "a1=1234\n",
    "print(len(str(a1)))"
   ]
  },
  {
   "cell_type": "code",
   "execution_count": 8,
   "metadata": {},
   "outputs": [
    {
     "name": "stdout",
     "output_type": "stream",
     "text": [
      "Enter the number4\n",
      "4 <class 'int'>\n"
     ]
    }
   ],
   "source": [
    "# want a number as a input\n",
    "n1 = int(input(\"Enter the number\"))\n",
    "print(n1,type(n1))\n",
    "\n"
   ]
  },
  {
   "cell_type": "code",
   "execution_count": 5,
   "metadata": {},
   "outputs": [
    {
     "name": "stdout",
     "output_type": "stream",
     "text": [
      "what your nameakshith\n",
      "akshith\n",
      "<class 'str'>\n"
     ]
    }
   ],
   "source": [
    "s1=input(\"what your name\")\n",
    "print(s1)\n",
    "print(type(s1))\n"
   ]
  },
  {
   "cell_type": "markdown",
   "metadata": {},
   "source": [
    "#\n",
    "\n"
   ]
  },
  {
   "cell_type": "code",
   "execution_count": 7,
   "metadata": {},
   "outputs": [
    {
     "name": "stdout",
     "output_type": "stream",
     "text": [
      "1244\n",
      "1224\n",
      "12340\n",
      "4\n",
      "123\n",
      "8187505353567209228244052427776\n"
     ]
    }
   ],
   "source": [
    "n1 = 1234\n",
    "print(n1+10)\n",
    "print(n1-10)\n",
    "print(n1*10)\n",
    "print(n1%10)\n",
    "print(n1//10)\n",
    "print(n1**10)\n",
    "\n"
   ]
  },
  {
   "cell_type": "code",
   "execution_count": 9,
   "metadata": {},
   "outputs": [
    {
     "name": "stdout",
     "output_type": "stream",
     "text": [
      "8.0\n"
     ]
    }
   ],
   "source": [
    "x = 1 + 2 ** 3/4 + 5\n",
    "print(x)\n"
   ]
  },
  {
   "cell_type": "code",
   "execution_count": 11,
   "metadata": {},
   "outputs": [
    {
     "name": "stdout",
     "output_type": "stream",
     "text": [
      "False\n"
     ]
    }
   ],
   "source": [
    "x=10\n",
    "a1=x>15\n",
    "print(a1)"
   ]
  },
  {
   "cell_type": "code",
   "execution_count": 13,
   "metadata": {},
   "outputs": [
    {
     "name": "stdout",
     "output_type": "stream",
     "text": [
      "True\n",
      "True\n"
     ]
    }
   ],
   "source": [
    "i=50\n",
    "a1=(i>10) and (i<100)\n",
    "a2=(i>20) and (i<68)\n",
    "print(a1)\n",
    "print(a2)"
   ]
  },
  {
   "cell_type": "code",
   "execution_count": null,
   "metadata": {},
   "outputs": [],
   "source": []
  }
 ],
 "metadata": {
  "kernelspec": {
   "display_name": "Python 3",
   "language": "python",
   "name": "python3"
  },
  "language_info": {
   "codemirror_mode": {
    "name": "ipython",
    "version": 3
   },
   "file_extension": ".py",
   "mimetype": "text/x-python",
   "name": "python",
   "nbconvert_exporter": "python",
   "pygments_lexer": "ipython3",
   "version": "3.7.3"
  }
 },
 "nbformat": 4,
 "nbformat_minor": 2
}
