{
 "cells": [
  {
   "cell_type": "markdown",
   "metadata": {},
   "source": [
    "### Regular Experssion\n",
    "- Pattern Matching\n",
    "- Patterns(re)package\n",
    "- cap symbol is used to represent start of re\n",
    "- [0-9]-->Any digit matching\n",
    "-- Two digit number (^[0-9]{2}$) \n",
    "-- Five digit number (^[0-9]{5}$)"
   ]
  },
  {
   "cell_type": "code",
   "execution_count": 3,
   "metadata": {},
   "outputs": [
    {
     "name": "stdout",
     "output_type": "stream",
     "text": [
      "True\n",
      "False\n"
     ]
    }
   ],
   "source": [
    "# Fuction to test two digit number matching\n",
    "import re\n",
    "def twoDigitMatching(n):\n",
    "    pattern ='^[0-9]{2}$'\n",
    "    n = str(n)\n",
    "    if re.match(pattern,n):\n",
    "        return True\n",
    "    return False\n",
    "print(twoDigitMatching(12))\n",
    "print(twoDigitMatching(123))"
   ]
  },
  {
   "cell_type": "markdown",
   "metadata": {},
   "source": [
    "### Regular Expression of characters\n",
    "- [a-z] --> Any lower case characters\n",
    "- [A-Z] --> Any upper case characters"
   ]
  },
  {
   "cell_type": "code",
   "execution_count": 4,
   "metadata": {},
   "outputs": [
    {
     "name": "stdout",
     "output_type": "stream",
     "text": [
      "True\n",
      "False\n"
     ]
    }
   ],
   "source": [
    "# Fuction to define to test username having 8 characters\n",
    "# Upper case and lower\n",
    "def testUsername(s):\n",
    "    pattern = '^[a-zA-Z]{8}$'\n",
    "    if re.match(pattern,s):\n",
    "        return True\n",
    "    return False\n",
    "print(testUsername('GitamHYD'))\n",
    "print(testUsername('Gitam188'))"
   ]
  },
  {
   "cell_type": "markdown",
   "metadata": {},
   "source": [
    "### Regular Expression to match the Indian mobile number\n",
    "- 10 Digit \n",
    "- (First digit will be [6-9] and remaining 9 digits will be [0-9]\n",
    "- Example - 9923832138\n",
    "- Re - ^[6-9][0-9]{9}$\n",
    "- Example:- 09988774455 (Re - cap[0][6-9][0-9][9]Dollar)\n",
    "- Example:- +919988776644\n",
    "- Re-^[+][9][1][6-9][0-9]{9}"
   ]
  },
  {
   "cell_type": "code",
   "execution_count": 5,
   "metadata": {},
   "outputs": [
    {
     "data": {
      "text/plain": [
       "True"
      ]
     },
     "execution_count": 5,
     "metadata": {},
     "output_type": "execute_result"
    }
   ],
   "source": [
    "# Function to validate the Indian Mobile number\n",
    "def phoneNumberValidation(phone):\n",
    "    pattern = '^[6-9][0-9]{9}$|^[0][6-9][0-9]{9}$|^[+][9][1][6-9][0-9]{9}$|'\n",
    "    phone = str(phone)\n",
    "    if re.match(pattern,phone):\n",
    "        return True\n",
    "    return False\n",
    "phoneNumberValidation('+919988774466')"
   ]
  },
  {
   "cell_type": "markdown",
   "metadata": {},
   "source": [
    "### Regular expression to validate the rollnumber\n",
    "    -Example : 1521A0501\n",
    "    -Example : 1521A0109\n",
    "    -Example : 1521A0499\n",
    "### Regular Expression to valid the password\n",
    "    -Parameters : Len min of 6 characters and Max of 15 characters\n",
    "    -Accept Lower case, Upper case,Digits spl char(@,#,!)"
   ]
  },
  {
   "cell_type": "code",
   "execution_count": 9,
   "metadata": {},
   "outputs": [
    {
     "name": "stdout",
     "output_type": "stream",
     "text": [
      "True\n"
     ]
    }
   ],
   "source": [
    "#Function to validate the rollnumber\n",
    "def rollnumbervalidation(roll):\n",
    "    pattern='^[1][5][2][1][A][0][1-5][0-9][1-9]$'\n",
    "    roll=str(roll)\n",
    "    if re.match(pattern,roll):\n",
    "        return True\n",
    "    return False\n",
    "print(rollnumbervalidation('1521A0501'))"
   ]
  },
  {
   "cell_type": "markdown",
   "metadata": {},
   "source": [
    "### Email Id vaalidation using Regular Expression\n",
    "- Example :- Username@DomainName.extention\n",
    "- Username :-\n",
    "       - length will be [6,15]\n",
    "       - no spls characters apart from underscore(_)\n",
    "       - should not begin and ends with underscore(_)\n",
    "       - characters Set : All digits and lower case\n",
    "- Extension:-\n",
    "       - length will be [2,4]\n",
    "       - no spl characters\n",
    "       - character set : lower case characters"
   ]
  },
  {
   "cell_type": "code",
   "execution_count": 10,
   "metadata": {},
   "outputs": [
    {
     "data": {
      "text/plain": [
       "True"
      ]
     },
     "execution_count": 10,
     "metadata": {},
     "output_type": "execute_result"
    }
   ],
   "source": [
    "def emailIdValidation(email):\n",
    "    pattern = '^[0-9a-z][0-9a-z_.]{5,14}[@][a-z0-9]{3,18}[.][a-z]{2,4}$'\n",
    "    if re.match(pattern,email):\n",
    "        return True\n",
    "    return False\n",
    "emailIdValidation('anilkumar189@gmail.com')"
   ]
  },
  {
   "cell_type": "markdown",
   "metadata": {},
   "source": [
    "### Python turtle\n",
    "- Turtle Graphics"
   ]
  },
  {
   "cell_type": "code",
   "execution_count": null,
   "metadata": {},
   "outputs": [],
   "source": [
    "# Step 1 : Make all the turtle package to be imported\n",
    "import turtle \n",
    "# Turtle method\n",
    "a1 = turtle.Turtle\n",
    "# forword()"
   ]
  },
  {
   "cell_type": "code",
   "execution_count": null,
   "metadata": {},
   "outputs": [],
   "source": [
    "# line draw in reverse direction\n",
    "import Turtle as tt\n",
    "a1 = tt.Turtle()\n",
    "tt.done()"
   ]
  },
  {
   "cell_type": "code",
   "execution_count": null,
   "metadata": {},
   "outputs": [],
   "source": [
    "#Draw square\n",
    "import turtle as tt\n",
    "a1=tt.Turtle()\n",
    "a1.forward(150)\n",
    "a1.right(90)\n",
    "a1.forward(150)\n",
    "a1.right(90)\n",
    "a1.forward(150)\n",
    "a1.right(90)\n",
    "a1.forward(150)\n",
    "a1.right(90)\n",
    "tt.done()"
   ]
  },
  {
   "cell_type": "code",
   "execution_count": null,
   "metadata": {},
   "outputs": [],
   "source": [
    "# star \n",
    "import turtle as t \n",
    "a1 = t.Turtle\n",
    "for i in range(40):\n",
    "    a1.forword(50)\n",
    "    a1.right(144)\n",
    "t.done()"
   ]
  },
  {
   "cell_type": "code",
   "execution_count": null,
   "metadata": {},
   "outputs": [],
   "source": [
    "import turtle as t\n",
    "a1 = t.Turtle()\n",
    "for i in range(250)\n",
    "    a1.forword(i)\n",
    "    a1.left(91)\n",
    "t.done()"
   ]
  },
  {
   "cell_type": "code",
   "execution_count": null,
   "metadata": {},
   "outputs": [],
   "source": [
    "# Hexagon with multiple colours \n",
    "from turtle import *\n",
    "colors = ['red', 'purple', 'blue', 'green', 'orange', 'yellow'] \n",
    "for x in range(360):\n",
    "   pencolor(colors[x%6])\n",
    "   t.width(x/100 + 1) \n",
    "   t.forward(x) \n",
    "   t.left(59)\n",
    "import turtle \n",
    "colors = ['red', 'purple', 'blue', 'green', 'orange', 'yellow'] \n",
    "t = turtle.Pen() \n",
    "turtle.bgcolor('black') \n",
    "for x in range(360): \n",
    "   t.pencolor(colors[x%6]) \n",
    "   t.width(x/100 + 1) \n",
    "   t.forward(x) \n",
    "   t.left(59) "
   ]
  },
  {
   "cell_type": "code",
   "execution_count": null,
   "metadata": {},
   "outputs": [],
   "source": [
    "from turtle import*\n",
    "goto(50,50)\n",
    "goto(-50,50)\n",
    "goto(100,-50)\n",
    "goto(-50,-50)"
   ]
  },
  {
   "cell_type": "code",
   "execution_count": null,
   "metadata": {},
   "outputs": [],
   "source": [
    "from turtle import * \n",
    "colors = ['red', 'purple', 'blue', 'green', 'orange', 'yellow'] \n",
    "for angle in range(0,360,15):\n",
    "   pencolor(colors[angle%6])\n",
    "   setheading(angle)\n",
    "   forward(100)\n",
    "   write(str(angle)+ 'o')\n",
    "   backward(100)"
   ]
  },
  {
   "cell_type": "code",
   "execution_count": null,
   "metadata": {},
   "outputs": [],
   "source": [
    "#undo() function will undo the turtle last action\n",
    "from turtle import *\n",
    "pencolor('blue')\n",
    "for i in range(15):\n",
    "   forward(100)\n",
    "   left(90)\n",
    "   forward(10)\n",
    "   left(90)\n",
    "   forward(100)\n",
    "   right(90)\n",
    "   forward(10)\n",
    "   right(90)\n",
    "pencolor('red')\n",
    "for i in range(90):\n",
    "   undo()"
   ]
  },
  {
   "cell_type": "code",
   "execution_count": null,
   "metadata": {},
   "outputs": [],
   "source": [
    "from turtle import *\n",
    "\n",
    "fillcolor('purple')\n",
    "pensize(10)\n",
    "pencolor('black')\n",
    "\n",
    "begin_fill()\n",
    "forward(100)\n",
    "left(90)\n",
    "forward(100)\n",
    "left(90)\n",
    "forward(100)\n",
    "left(90)\n",
    "forward(100)\n",
    "left(90)\n",
    "end_fill()\n",
    "from turtle import *\n",
    "\n",
    "fillcolor('purple')\n",
    "pensize(10)\n",
    "pencolor('black')\n",
    "\n",
    "begin_fill()\n",
    "circle(100)\n",
    "end_fill()"
   ]
  },
  {
   "cell_type": "code",
   "execution_count": null,
   "metadata": {},
   "outputs": [],
   "source": []
  }
 ],
 "metadata": {
  "kernelspec": {
   "display_name": "Python 3",
   "language": "python",
   "name": "python3"
  },
  "language_info": {
   "codemirror_mode": {
    "name": "ipython",
    "version": 3
   },
   "file_extension": ".py",
   "mimetype": "text/x-python",
   "name": "python",
   "nbconvert_exporter": "python",
   "pygments_lexer": "ipython3",
   "version": "3.7.3"
  }
 },
 "nbformat": 4,
 "nbformat_minor": 2
}
